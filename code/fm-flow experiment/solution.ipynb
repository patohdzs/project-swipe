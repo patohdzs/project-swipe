{
 "cells": [
  {
   "cell_type": "markdown",
   "metadata": {},
   "source": [
    "# Tightness-Adjusted Flows\n"
   ]
  },
  {
   "cell_type": "code",
   "execution_count": null,
   "metadata": {},
   "outputs": [],
   "source": [
    "import matplotlib.pyplot as plt\n",
    "from pathlib import Path\n",
    "from matplotlib.collections import LineCollection\n",
    "import matplotlib as mpl\n",
    "import numpy as np\n",
    "from scipy import optimize as opt\n",
    "from scipy import integrate as intg\n",
    "from scipy.optimize import least_squares\n",
    "from scipy.stats import beta\n",
    "from scipy.stats import cumfreq, beta\n",
    "\n",
    "%matplotlib inline\n",
    "plt.style.use('../notebook.mplstyle')"
   ]
  },
  {
   "cell_type": "markdown",
   "metadata": {},
   "source": [
    "## Exogenous Parameters\n"
   ]
  },
  {
   "cell_type": "code",
   "execution_count": null,
   "metadata": {},
   "outputs": [],
   "source": [
    "# Setting exogenous parameters\n",
    "def reset_exog_params():\n",
    "    global Bm, Bw, bm_vals, bw_vals, δ, Um, Uw, Fm, Fw, λm, λw  \n",
    "    Bm = 10\n",
    "    Bw = 10\n",
    "    bm_vals = range(1,Bm+1) \n",
    "    bw_vals = range(1,Bw+1)\n",
    "    \n",
    "    δ = 0.97\n",
    "    Um = lambda θ : θ \n",
    "    Uw = lambda θ : θ\n",
    "    Fm = beta(3,3)\n",
    "    Fw = beta(3,3)\n",
    "    λm = 10\n",
    "    λw = 10"
   ]
  },
  {
   "cell_type": "markdown",
   "metadata": {},
   "source": [
    "## Two-Sided Search Equilibrium Conditions \n"
   ]
  },
  {
   "cell_type": "code",
   "execution_count": null,
   "metadata": {},
   "outputs": [],
   "source": [
    "# Optimality conditions\n",
    "def SSE(x): \n",
    "    # Endogenous Variables \n",
    "    μ = x[:Bm] \n",
    "    ω = x[Bm:Bm+Bw]  \n",
    "    print('mu:', μ)\n",
    "    print('omega:', ω)\n",
    "\n",
    "    Nm = x[Bm+Bw:2*Bm+Bw]\n",
    "    Nw = x[2*Bm+Bw:] \n",
    "    \n",
    "    print('Nm:', Nm)\n",
    "    print('Nw:', Nw)\n",
    "    \n",
    "    τm = min(Nw.sum()/Nm.sum(), 1)\n",
    "    τw = τm * (Nm.sum()/Nw.sum()) \n",
    "    αm = (τm*δ)/(1-δ*(1-τm))\n",
    "    αw = (τw*δ)/(1-δ*(1-τw)) \n",
    "\n",
    "    # Initialising system of equilibrium equations\n",
    "    E = np.empty(2*Bm + 2*Bw + 2) \n",
    "\n",
    "    # Initial condition for men \n",
    "    E[0] = (Um(μ[0]) \n",
    "            - αm * Um(μ[0]) * Fw.cdf(μ[0]) \n",
    "            - αm * intg.quad(lambda t: Um(t) * Fw.pdf(t), μ[0], 1)[0]) \n",
    "    \n",
    "    # Intertemporal optimality conditions for men\n",
    "    for b in range(1, Bm):\n",
    "        E[b] = (Um(μ[b]) \n",
    "                - αm * Um(μ[b]) * Fw.cdf(μ[b]) \n",
    "                - αm * Um(μ[b-1])*(1-Fw.cdf(μ[b-1])) \n",
    "                - αm * intg.quad(lambda t : Um(t) * Fw.pdf(t), μ[b], μ[b-1])[0])\n",
    "\n",
    "    E[Bm] = (Uw(ω[0]) \n",
    "            - αw * Uw(ω[0]) * Fm.cdf(ω[0]) \n",
    "            - αw * intg.quad(lambda t: Uw(t) * Fm.pdf(t), ω[0], 1)[0])\n",
    "\n",
    "    # Intertemporal optimality conditions for women\n",
    "    for b in range(1, Bw):\n",
    "        E[Bm+b] = (Uw(ω[b]) \n",
    "                - αw * Uw(ω[b]) * Fm.cdf(ω[b]) \n",
    "                - αw * Uw(ω[b-1])*(1-Fm.cdf(ω[b-1])) \n",
    "                - αw * intg.quad(lambda t : Uw(t) * Fm.pdf(t), ω[b], ω[b-1])[0]) \n",
    "                \n",
    "    # Platform flow men\n",
    "    E[Bm+Bw] = λm - (1-δ)*Nm.sum() - Nm[0]*δ*τm*(1-Fw.cdf(μ[0]))\n",
    "\n",
    "    for b in range(0, Bm-1):\n",
    "       E[Bm+Bw+b+1] = (Nm[b+1]*δ*τm*(1-Fw.cdf(μ[b+1]))\n",
    "                    - Nm[b]*(1-δ) - Nm[b]*δ*τm*(1-Fw.cdf(μ[b])))\n",
    "\n",
    "    E[2*Bm+Bw] = λm - Nm[Bm-1]*(1-δ) - Nm[Bm-1]*δ*τm*(1-Fw.cdf(μ[Bm-1]))\n",
    "\n",
    "    # Platform flow women\n",
    "    E[2*Bm+Bw+1] = λw - (1-δ)*Nw.sum() - Nw[0]*δ*τw*(1-Fm.cdf(ω[0]))  \n",
    "\n",
    "    for b in range(0, Bw-1):\n",
    "       E[2*Bm+Bw+2+b] = (Nw[b+1]*δ*τw*(1-Fm.cdf(ω[b+1]))\n",
    "                      - Nw[b]*(1-δ) - Nw[b]*δ*τw*(1-Fm.cdf(ω[b])))\n",
    "\n",
    "    E[2*Bm+2*Bw+1] = λw - Nw[Bw-1]*(1-δ) - Nw[Bw-1]*δ*τw*(1-Fm.cdf(ω[Bw-1])) \n",
    "\n",
    "    return E "
   ]
  },
  {
   "cell_type": "markdown",
   "metadata": {},
   "source": [
    "## Solving For Steady State Equilibria "
   ]
  },
  {
   "cell_type": "code",
   "execution_count": null,
   "metadata": {},
   "outputs": [],
   "source": [
    "reset_exog_params()\n",
    "m_test = np.random.rand(Bm) \n",
    "w_test = np.random.rand(Bw) \n",
    "\n",
    "nm_test = np.random.randint(0, λm, size=Bm)\n",
    "nw_test = np.random.randint(0, λw, size=Bw)\n",
    "\n",
    "print('μ0: ', m_test)\n",
    "print('ω0: ', w_test)\n",
    "print('')\n",
    "\n",
    "x_start = np.concatenate((m_test, w_test, nm_test, nw_test), axis=None) \n",
    "x_max = np.concatenate((np.ones(Bm+Bw), np.ones(Bm+Bw)*np.inf), axis=None)\n",
    "print('Upper Bound', x_max)\n",
    "solution = least_squares(SSE, x_start, bounds=(0, x_max), verbose=1) \n",
    "\n",
    "μ_star = solution.x[:Bm]\n",
    "ω_star = solution.x[Bm:Bw]\n",
    "print('')\n",
    "print('μ*', μ_star) \n",
    "print('ω*', ω_star) \n",
    "print('Loss:', round(solution.cost,6))"
   ]
  },
  {
   "cell_type": "code",
   "execution_count": null,
   "metadata": {},
   "outputs": [],
   "source": [
    "# Computing steady state\n",
    "Nm, Nw, Pbm, Pbw, τm, τw, αm, αw = steady_state(μ_star, ω_star, True)\n",
    "print('Masses: ', round(Nm), round(Nw))\n",
    "print('PMF check:', round(sum(Pbm),3), round(sum(Pbw),3))\n",
    "print('Tightness: ', round(τm,2), round(τw,2))\n",
    "print('Alphas: ', round(αm,2), round(αw,2)) \n",
    "\n",
    "ρm = sum([(1 - Fm.cdf(ω_star[b]))*Pbw[b] for b in range(Bw)])\n",
    "ρw = sum([(1 - Fw.cdf(μ_star[b]))*Pbm[b] for b in range(Bm)])\n",
    "print('Average Pr(right-swipe): ', round(ρm, 2), round(ρw, 2))"
   ]
  },
  {
   "cell_type": "code",
   "execution_count": null,
   "metadata": {},
   "outputs": [],
   "source": [
    "# Plotting Marginal PDFs\n",
    "fig, axs = plt.subplots(2,3,figsize=(18, 8), constrained_layout=True)\n",
    "x = np.linspace(0, 1, 5000)\n",
    "\n",
    "axs[0,0].set_xlim(0,1)\n",
    "axs[0,0].set_ylim(0,1.1*max(Fm.pdf(x)))\n",
    "axs[0,0].plot(x, Fm.pdf(x), color='tab:blue') \n",
    "\n",
    "axs[1,0].set_xlim(0,1)\n",
    "axs[1,0].set_ylim(0,1.1*max(Fw.pdf(x)))\n",
    "axs[1,0].plot(x, Fw.pdf(x), color='tab:pink')\n",
    "\n",
    "# Plotting Marginal PMFs \n",
    "axs[0,1].set_xlim(0,Bm+1)\n",
    "axs[0,1].bar(bm_vals, Pbm, color='tab:blue') \n",
    "\n",
    "axs[1,1].set_xlim(0,Bw+1)\n",
    "axs[1,1].bar(bw_vals, Pbw, color='tab:pink') \n",
    "\n",
    "axs[0,1].set(xlabel=r'Budget ($b$)', ylabel=r'Pr($b_m$=b)') \n",
    "axs[1,1].set(xlabel=r'Budget ($b$)', ylabel=r'Pr($b_w$=b)') \n",
    "\n",
    "#axs[0,0].set_title('Men',loc='center')\n",
    "axs[0,0].set(xlabel=r'Attractiveness ($\\theta$)', ylabel=r'$f(\\theta)$')\n",
    "\n",
    "#axs[0,1].set_title('Women',loc='center')\n",
    "axs[1,0].set(xlabel=r'Attractiveness ($\\theta$)', ylabel=r'$f(\\theta)$')\n",
    "\n",
    "\n",
    "for i in range(2):\n",
    "    B = Bm if i==0 else Bw\n",
    "    b_vals = bm_vals if i==0 else bw_vals\n",
    "    θ_vals = μ_star if i==0 else ω_star\n",
    "    \n",
    "    axs[i,2].set_xlim(1,B)\n",
    "    axs[i,2].set_ylim(0,1)\n",
    "    axs[i,2].plot(b_vals, θ_vals, color='k')\n",
    "    axs[i,2].fill_between(b_vals, 0, θ_vals, color='red', alpha=0.05)\n",
    "    axs[i,2].fill_between(b_vals, θ_vals, 1, color='green', alpha=0.1)\n",
    "\n",
    "axs[0,2].set(xlabel=r'Budget ($b_m$)', ylabel=r'Attractiveness ($\\theta_w$)')\n",
    "axs[1,2].set(xlabel=r'Budget ($b_w$)', ylabel=r'Attractiveness ($\\theta_m$)')\n",
    "fig.suptitle('Figure 5: Two-Sided Swiping Rules and Steady State ')\n",
    "plt.savefig('../../figures/mkt-cs.png')\n",
    "plt.show()"
   ]
  }
 ],
 "metadata": {
  "interpreter": {
   "hash": "1eadd6e935a4e19efe0bf22a49bc8e59458c62498b168c3ecd53769877cee6a7"
  },
  "kernelspec": {
   "display_name": "Python 3.9.7 64-bit ('project-tinder-env': conda)",
   "name": "python3"
  },
  "language_info": {
   "codemirror_mode": {
    "name": "ipython",
    "version": 3
   },
   "file_extension": ".py",
   "mimetype": "text/x-python",
   "name": "python",
   "nbconvert_exporter": "python",
   "pygments_lexer": "ipython3",
   "version": "3.9.7"
  }
 },
 "nbformat": 4,
 "nbformat_minor": 4
}
