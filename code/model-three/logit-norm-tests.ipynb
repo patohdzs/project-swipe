{
 "cells": [
  {
   "cell_type": "markdown",
   "metadata": {},
   "source": [
    "# Logit-Normal Signal Experiments"
   ]
  }
 ],
 "metadata": {
  "interpreter": {
   "hash": "1eadd6e935a4e19efe0bf22a49bc8e59458c62498b168c3ecd53769877cee6a7"
  },
  "kernelspec": {
   "display_name": "Python 3.9.7 64-bit ('project-tinder-env': conda)",
   "name": "python3"
  },
  "language_info": {
   "name": "python",
   "version": "3.9.7"
  },
  "orig_nbformat": 4
 },
 "nbformat": 4,
 "nbformat_minor": 2
}
