{
 "cells": [
  {
   "cell_type": "markdown",
   "id": "64974c9d",
   "metadata": {},
   "source": [
    "# Toy Model 1: Agent-Based Simulation"
   ]
  },
  {
   "cell_type": "code",
   "execution_count": 1,
   "id": "44829287",
   "metadata": {},
   "outputs": [],
   "source": [
    "import Agent\n",
    "\n",
    "import matplotlib.pyplot as plt\n",
    "from pathlib import Path\n",
    "from matplotlib.collections import LineCollection\n",
    "import matplotlib as mpl\n",
    "import numpy as np\n",
    "from scipy import optimize as opt\n",
    "from scipy import integrate as intg\n",
    "from scipy.stats import beta\n",
    "from scipy.stats import cumfreq, beta\n",
    "%matplotlib inline\n",
    "plt.style.use('notebook.mplstyle')"
   ]
  },
  {
   "cell_type": "markdown",
   "metadata": {},
   "source": [
    "## Population parameters"
   ]
  },
  {
   "cell_type": "code",
   "execution_count": 2,
   "metadata": {},
   "outputs": [],
   "source": [
    "# Setting exogenous poluation parameters\n",
    "def set_exog_params(B, d, f, a, b):\n",
    "    global b0, b_vals, δ, u , α, β\n",
    "    b0 = B\n",
    "    b_vals = range(1,b0+1)\n",
    "    δ = d\n",
    "    u = f\n",
    "    α, β = (a, b)\n",
    "    \n"
   ]
  },
  {
   "cell_type": "code",
   "execution_count": 3,
   "metadata": {},
   "outputs": [],
   "source": [
    "# Initial condition equation\n",
    "def initial_condition(x):\n",
    "    return (u(x) \n",
    "            - δ * u(x) * beta.cdf(x,α,β) \n",
    "            - δ * intg.quad(lambda t: u(t) * beta.pdf(t,α,β), x, 1)[0])\n",
    "\n",
    "# Recurrence relation \n",
    "def phi(x):\n",
    "    return (u(x) \n",
    "            - δ * u(x) * beta.cdf(x,α,β) \n",
    "            - δ * u(θ_prev)*(1-beta.cdf(θ_prev,α,β)) \n",
    "            - δ * intg.quad(lambda t : u(t) * beta.pdf(t,α,β), x, θ_prev)[0])"
   ]
  },
  {
   "cell_type": "markdown",
   "id": "27e7a560",
   "metadata": {},
   "source": [
    "## Computing initial condition $\\theta^*_1$ and $\\left\\{\\theta^*_b\\right\\}^{b_0}_{b=1}$"
   ]
  },
  {
   "cell_type": "code",
   "execution_count": 4,
   "metadata": {},
   "outputs": [],
   "source": [
    "def compute_θ1():\n",
    "    return opt.root_scalar(initial_condition, bracket=[0,1], method='brentq').root\n",
    "\n",
    "def compute_θb():\n",
    " return opt.root_scalar(phi, bracket=[0,1], method='brentq').root\n",
    "\n",
    "def compute_θ_vals(b0):\n",
    "    global θ_prev\n",
    "    θ_vals = [compute_θ1()]\n",
    "    for i in range(b0-1):\n",
    "        θ_prev = θ_vals[i]\n",
    "        θ_vals.append(compute_θb())\n",
    "    return θ_vals"
   ]
  },
  {
   "cell_type": "markdown",
   "metadata": {},
   "source": [
    "## Agent spawning"
   ]
  },
  {
   "cell_type": "code",
   "execution_count": 7,
   "metadata": {},
   "outputs": [
    {
     "ename": "TypeError",
     "evalue": "'module' object is not callable",
     "output_type": "error",
     "traceback": [
      "\u001b[0;31m---------------------------------------------------------------------------\u001b[0m",
      "\u001b[0;31mTypeError\u001b[0m                                 Traceback (most recent call last)",
      "\u001b[0;32m/var/folders/9t/5d8x296n2v36ssd87h71g0sc0000gn/T/ipykernel_89527/1756703043.py\u001b[0m in \u001b[0;36m<module>\u001b[0;34m\u001b[0m\n\u001b[1;32m      6\u001b[0m     \u001b[0;32mreturn\u001b[0m \u001b[0magents\u001b[0m\u001b[0;34m\u001b[0m\u001b[0;34m\u001b[0m\u001b[0m\n\u001b[1;32m      7\u001b[0m \u001b[0;34m\u001b[0m\u001b[0m\n\u001b[0;32m----> 8\u001b[0;31m \u001b[0mmales\u001b[0m \u001b[0;34m=\u001b[0m \u001b[0mhomogeneous_spawn\u001b[0m\u001b[0;34m(\u001b[0m\u001b[0;36m1000\u001b[0m\u001b[0;34m,\u001b[0m \u001b[0;36m20\u001b[0m\u001b[0;34m,\u001b[0m \u001b[0;36m0.9\u001b[0m\u001b[0;34m,\u001b[0m \u001b[0;32mlambda\u001b[0m \u001b[0mx\u001b[0m \u001b[0;34m:\u001b[0m \u001b[0mx\u001b[0m \u001b[0;34m,\u001b[0m \u001b[0;36m1\u001b[0m\u001b[0;34m,\u001b[0m \u001b[0;36m1\u001b[0m\u001b[0;34m)\u001b[0m\u001b[0;34m\u001b[0m\u001b[0;34m\u001b[0m\u001b[0m\n\u001b[0m\u001b[1;32m      9\u001b[0m \u001b[0mfemales\u001b[0m \u001b[0;34m=\u001b[0m \u001b[0mhomogeneous_spawn\u001b[0m\u001b[0;34m(\u001b[0m\u001b[0;36m1000\u001b[0m\u001b[0;34m,\u001b[0m \u001b[0;36m20\u001b[0m\u001b[0;34m,\u001b[0m \u001b[0;36m0.9\u001b[0m\u001b[0;34m,\u001b[0m \u001b[0;32mlambda\u001b[0m \u001b[0mx\u001b[0m \u001b[0;34m:\u001b[0m \u001b[0mx\u001b[0m \u001b[0;34m,\u001b[0m \u001b[0;36m1\u001b[0m\u001b[0;34m,\u001b[0m \u001b[0;36m1\u001b[0m\u001b[0;34m)\u001b[0m\u001b[0;34m\u001b[0m\u001b[0;34m\u001b[0m\u001b[0m\n",
      "\u001b[0;32m/var/folders/9t/5d8x296n2v36ssd87h71g0sc0000gn/T/ipykernel_89527/1756703043.py\u001b[0m in \u001b[0;36mhomogeneous_spawn\u001b[0;34m(n, b0, δ, u, α, β)\u001b[0m\n\u001b[1;32m      2\u001b[0m     \u001b[0mset_exog_params\u001b[0m\u001b[0;34m(\u001b[0m\u001b[0mb0\u001b[0m\u001b[0;34m,\u001b[0m \u001b[0mδ\u001b[0m\u001b[0;34m,\u001b[0m \u001b[0mu\u001b[0m\u001b[0;34m,\u001b[0m \u001b[0mα\u001b[0m\u001b[0;34m,\u001b[0m \u001b[0mβ\u001b[0m\u001b[0;34m)\u001b[0m\u001b[0;34m\u001b[0m\u001b[0;34m\u001b[0m\u001b[0m\n\u001b[1;32m      3\u001b[0m     \u001b[0mθ_vals\u001b[0m \u001b[0;34m=\u001b[0m \u001b[0mcompute_θ_vals\u001b[0m\u001b[0;34m(\u001b[0m\u001b[0mb0\u001b[0m\u001b[0;34m)\u001b[0m\u001b[0;34m\u001b[0m\u001b[0;34m\u001b[0m\u001b[0m\n\u001b[0;32m----> 4\u001b[0;31m     agents = [Agent(i, 0, beta.var(α, β), b0, δ, u, θ_vals) \n\u001b[0m\u001b[1;32m      5\u001b[0m               for i in range(n)]\n\u001b[1;32m      6\u001b[0m     \u001b[0;32mreturn\u001b[0m \u001b[0magents\u001b[0m\u001b[0;34m\u001b[0m\u001b[0;34m\u001b[0m\u001b[0m\n",
      "\u001b[0;32m/var/folders/9t/5d8x296n2v36ssd87h71g0sc0000gn/T/ipykernel_89527/1756703043.py\u001b[0m in \u001b[0;36m<listcomp>\u001b[0;34m(.0)\u001b[0m\n\u001b[1;32m      2\u001b[0m     \u001b[0mset_exog_params\u001b[0m\u001b[0;34m(\u001b[0m\u001b[0mb0\u001b[0m\u001b[0;34m,\u001b[0m \u001b[0mδ\u001b[0m\u001b[0;34m,\u001b[0m \u001b[0mu\u001b[0m\u001b[0;34m,\u001b[0m \u001b[0mα\u001b[0m\u001b[0;34m,\u001b[0m \u001b[0mβ\u001b[0m\u001b[0;34m)\u001b[0m\u001b[0;34m\u001b[0m\u001b[0;34m\u001b[0m\u001b[0m\n\u001b[1;32m      3\u001b[0m     \u001b[0mθ_vals\u001b[0m \u001b[0;34m=\u001b[0m \u001b[0mcompute_θ_vals\u001b[0m\u001b[0;34m(\u001b[0m\u001b[0mb0\u001b[0m\u001b[0;34m)\u001b[0m\u001b[0;34m\u001b[0m\u001b[0;34m\u001b[0m\u001b[0m\n\u001b[0;32m----> 4\u001b[0;31m     agents = [Agent(i, 0, beta.var(α, β), b0, δ, u, θ_vals) \n\u001b[0m\u001b[1;32m      5\u001b[0m               for i in range(n)]\n\u001b[1;32m      6\u001b[0m     \u001b[0;32mreturn\u001b[0m \u001b[0magents\u001b[0m\u001b[0;34m\u001b[0m\u001b[0;34m\u001b[0m\u001b[0m\n",
      "\u001b[0;31mTypeError\u001b[0m: 'module' object is not callable"
     ]
    }
   ],
   "source": [
    "def homogeneous_spawn(n, b0, δ, u, α, β):\n",
    "    set_exog_params(b0, δ, u, α, β)\n",
    "    θ_vals = compute_θ_vals(b0)\n",
    "    agents = [Agent(i, 0, beta.var(α, β), b0, δ, u, θ_vals) \n",
    "              for i in range(n)]\n",
    "    return agents          \n",
    "    \n",
    "males = homogeneous_spawn(1000, 20, 0.9, lambda x : x , 1, 1)\n",
    "females = homogeneous_spawn(1000, 20, 0.9, lambda x : x , 1, 1)"
   ]
  },
  {
   "cell_type": "markdown",
   "metadata": {},
   "source": [
    "## Tinder Simlation"
   ]
  },
  {
   "cell_type": "code",
   "execution_count": null,
   "metadata": {},
   "outputs": [],
   "source": [
    "T = 1000\n",
    "for t in range(t):\n",
    "    for i in range(n):\n",
    "        # Matching\n",
    "        j = (i+t)%n\n",
    "\n",
    "        # Swiping \n",
    "        m_swipe = males[i].swipe(females[j]) \n",
    "        f_swipe = females[j].swipe(males[i]) \n",
    "\n",
    "        # Updating\n",
    "        males[i].update(m_swipe, f_swipe, females[j])\n",
    "        females[j].update(f_swipe, m_swipe, males[i])\n",
    "\n",
    "        # Killing\n",
    "        # Generate a bernoulli rvar w.p delta\n",
    "        # if =1: kill"
   ]
  }
 ],
 "metadata": {
  "interpreter": {
   "hash": "1eadd6e935a4e19efe0bf22a49bc8e59458c62498b168c3ecd53769877cee6a7"
  },
  "kernelspec": {
   "display_name": "Python 3.9.7 64-bit ('project-tinder-env': conda)",
   "name": "python3"
  },
  "language_info": {
   "codemirror_mode": {
    "name": "ipython",
    "version": 3
   },
   "file_extension": ".py",
   "mimetype": "text/x-python",
   "name": "python",
   "nbconvert_exporter": "python",
   "pygments_lexer": "ipython3",
   "version": "3.9.7"
  }
 },
 "nbformat": 4,
 "nbformat_minor": 5
}
