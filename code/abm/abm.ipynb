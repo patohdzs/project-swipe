{
 "cells": [
  {
   "cell_type": "markdown",
   "metadata": {},
   "source": [
    "# Agent-Based Simulation "
   ]
  },
  {
   "cell_type": "code",
   "execution_count": null,
   "metadata": {},
   "outputs": [],
   "source": [
    "import matplotlib.pyplot as plt\n",
    "from pathlib import Path\n",
    "import random \n",
    "import pandas as pd\n",
    "from matplotlib.collections import LineCollection\n",
    "import matplotlib as mpl\n",
    "import numpy as np\n",
    "from scipy import optimize as opt\n",
    "from scipy import integrate as intg\n",
    "from scipy.optimize import least_squares\n",
    "from scipy.stats import beta\n",
    "from scipy.stats import bernoulli\n",
    "from scipy.stats import cumfreq, beta\n",
    "from utils import Agent, kill\n",
    "%matplotlib inline\n",
    "plt.style.use('../notebook.mplstyle')\n",
    "\n",
    "SEED = 1\n"
   ]
  },
  {
   "cell_type": "markdown",
   "metadata": {},
   "source": [
    "## Exogenous Parameters\n"
   ]
  },
  {
   "cell_type": "code",
   "execution_count": null,
   "metadata": {},
   "outputs": [],
   "source": [
    "# Setting exogenous parameters\n",
    "def reset_exog_params():\n",
    "    global Bm, Bw, bm_vals, bw_vals, δ, um, uw, Fm, Fw, λm, λw, T  \n",
    "    Bm = 10\n",
    "    Bw = 10\n",
    "    bm_vals = range(1,Bm+1) \n",
    "    bw_vals = range(1,Bw+1)\n",
    "    \n",
    "    δ = 0.97\n",
    "    um = lambda θ : θ \n",
    "    uw = lambda θ : θ\n",
    "    Fm = beta(2,4)\n",
    "    Fw = beta(2,4)\n",
    "    λm = 35\n",
    "    λw = 35"
   ]
  },
  {
   "cell_type": "markdown",
   "metadata": {},
   "source": [
    "## Agent-Based Simulation"
   ]
  },
  {
   "cell_type": "code",
   "execution_count": null,
   "metadata": {},
   "outputs": [],
   "source": [
    "reset_exog_params()\n",
    "batches = 10\n",
    "simulation = []\n",
    "for v in range(batches):\n",
    "    men = []\n",
    "    women = []\n",
    "    T = 100\n",
    "    \n",
    "    for t in range(0,T): \n",
    "        # Add new agents \n",
    "        for i, θ in enumerate(Fm.rvs(size=λm, random_state=SEED)): \n",
    "            men.append(Agent(t*λm + i, t, 'Male', θ, Bm, μ_star))\n",
    "    \n",
    "        for i, θ in enumerate(Fw.rvs(size=λw, random_state=SEED)): \n",
    "            women.append(Agent(t*λw + i, t, 'Female', θ, Bm, ω_star))  \n",
    "    \n",
    "        # Gameplay \n",
    "        random.shuffle(men)\n",
    "        random.shuffle(women) \n",
    "        for m, w in zip(men, women): \n",
    "            am = m.swipe(w, t)\n",
    "            aw = w.swipe(m, t)\n",
    "            m.update(am, aw, t)\n",
    "            w.update(aw, am, t)\n",
    "            \n",
    "        # Logging    \n",
    "        for a in (men + women): \n",
    "            simulation.append(a.info(v, t))  \n",
    "            \n",
    "        # Departures\n",
    "        men_dpts = bernoulli.rvs((1-δ), size=len(men))\n",
    "        women_dpts = bernoulli.rvs((1-δ), size=len(women))\n",
    "        \n",
    "        men[:] = [m for i, m in enumerate(men) if (m.b != 0) and (men_dpts[i] == 0)]\n",
    "        women[:] = [w for i, w in enumerate(women) if (w.b != 0) and (women_dpts[i] == 0)] "
   ]
  },
  {
   "cell_type": "code",
   "execution_count": null,
   "metadata": {},
   "outputs": [],
   "source": [
    "data = pd.DataFrame(simulation)\n",
    "data.head(5)"
   ]
  },
  {
   "cell_type": "code",
   "execution_count": null,
   "metadata": {},
   "outputs": [],
   "source": [
    "total_mass = data.groupby(['batch','time'], as_index=False).size()\n",
    "fig, ax = plt.subplots()\n",
    "ax.set_xlim(0,T) \n",
    "for i in range(batches):\n",
    "    ax.plot(range(0,T), total_mass[total_mass.batch==i], color='k')  \n",
    "ax.set(xlabel=r'Time ($t$)', ylabel=r'Total Agent Mass ($N_t$)')\n",
    "fig.suptitle('Figure 6: ABM Mass Convergence')\n",
    "plt.savefig('../../figures/abm-total-conv.png')\n",
    "plt.show()"
   ]
  },
  {
   "cell_type": "code",
   "execution_count": null,
   "metadata": {},
   "outputs": [],
   "source": [
    "mass_by_sex = data.groupby(['time', 'sex'], as_index=False).size() \n",
    "Nm_series = mass_by_sex[mass_by_sex.sex=='Male']['size']\n",
    "Nw_series = mass_by_sex[mass_by_sex.sex=='Female']['size'] "
   ]
  },
  {
   "cell_type": "code",
   "execution_count": null,
   "metadata": {},
   "outputs": [],
   "source": [
    "mass_by_sex = data.groupby(['time', 'sex'], as_index=False).size() \n",
    "Nm_series = mass_by_sex[mass_by_sex.sex=='Male']['size']\n",
    "Nw_series = mass_by_sex[mass_by_sex.sex=='Female']['size']\n",
    "\n",
    "fig, ax = plt.subplots()\n",
    "ax.set_xlim(0,T) \n",
    "ax.plot(range(0,T), Nm_series, color='tab:blue') \n",
    "ax.plot(range(0,T), Nw_series, color='tab:pink') \n",
    "ax.set(xlabel=r'Time ($t$)', ylabel=r'Agent Mass ($N_t$)')\n",
    "fig.suptitle('Figure 6: ABM Mass Convergence')\n",
    "plt.savefig('../../figures/abm-conv.png')\n",
    "plt.show()\n"
   ]
  }
 ],
 "metadata": {
  "interpreter": {
   "hash": "1eadd6e935a4e19efe0bf22a49bc8e59458c62498b168c3ecd53769877cee6a7"
  },
  "kernelspec": {
   "display_name": "Python 3.9.7 64-bit ('project-tinder-env': conda)",
   "name": "python3"
  },
  "language_info": {
   "codemirror_mode": {
    "name": "ipython",
    "version": 3
   },
   "file_extension": ".py",
   "mimetype": "text/x-python",
   "name": "python",
   "nbconvert_exporter": "python",
   "pygments_lexer": "ipython3",
   "version": "3.9.7"
  }
 },
 "nbformat": 4,
 "nbformat_minor": 4
}
