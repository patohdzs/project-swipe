{
 "cells": [
  {
   "cell_type": "markdown",
   "metadata": {},
   "source": [
    "# Agent-Based Simulation "
   ]
  },
  {
   "cell_type": "code",
   "execution_count": null,
   "metadata": {},
   "outputs": [],
   "source": [
    "import matplotlib.pyplot as plt\n",
    "from pathlib import Path\n",
    "from matplotlib.collections import LineCollection\n",
    "import matplotlib as mpl\n",
    "import numpy as np\n",
    "from scipy import optimize as opt\n",
    "from scipy import integrate as intg\n",
    "from scipy.optimize import least_squares\n",
    "from scipy.stats import beta\n",
    "from scipy.stats import cumfreq, beta\n",
    "import utils\n",
    "%matplotlib inline\n",
    "plt.style.use('../notebook.mplstyle')\n"
   ]
  },
  {
   "cell_type": "code",
   "execution_count": null,
   "metadata": {},
   "outputs": [],
   "source": [
    "# Setting exogenous parameters\n",
    "def reset_exog_params():\n",
    "    global Bm, Bw, bm_vals, bw_vals, δ, um, uw, Fm, Fw, λm, λw  \n",
    "    Bm = 20\n",
    "    Bw = 20\n",
    "    bm_vals = range(1,Bm+1) \n",
    "    bw_vals = range(1,Bw+1)\n",
    "    \n",
    "    δ = 0.97\n",
    "    um = lambda θ : θ \n",
    "    uw = lambda θ : θ\n",
    "    Fm = beta(2,4)\n",
    "    Fw = beta(2,4)\n",
    "    λm = 300\n",
    "    λw = 30"
   ]
  },
  {
   "cell_type": "code",
   "execution_count": null,
   "metadata": {},
   "outputs": [],
   "source": [
    "µ = compute_rule(men)"
   ]
  }
 ],
 "metadata": {
  "interpreter": {
   "hash": "1eadd6e935a4e19efe0bf22a49bc8e59458c62498b168c3ecd53769877cee6a7"
  },
  "kernelspec": {
   "display_name": "Python 3.9.7 64-bit ('project-tinder-env': conda)",
   "name": "python3"
  },
  "language_info": {
   "name": "python",
   "version": "3.9.7"
  },
  "orig_nbformat": 4
 },
 "nbformat": 4,
 "nbformat_minor": 2
}
