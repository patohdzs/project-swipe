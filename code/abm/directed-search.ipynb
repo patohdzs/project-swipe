{
 "cells": [
  {
   "cell_type": "markdown",
   "metadata": {},
   "source": [
    "# Agent-Based Simulation: Directed Search "
   ]
  },
  {
   "cell_type": "code",
   "execution_count": 1,
   "metadata": {},
   "outputs": [],
   "source": [
    "import matplotlib.pyplot as plt\n",
    "from pathlib import Path\n",
    "import random \n",
    "import pandas as pd\n",
    "from matplotlib.collections import LineCollection\n",
    "import matplotlib as mpl\n",
    "import numpy as np\n",
    "from scipy import optimize as opt\n",
    "from scipy import integrate as intg\n",
    "from scipy.optimize import least_squares\n",
    "from scipy.stats import beta\n",
    "from scipy.stats import bernoulli\n",
    "from scipy.stats import cumfreq, beta\n",
    "from utils import simulate_game\n",
    "\n",
    "%matplotlib inline\n",
    "plt.style.use('../notebook.mplstyle')\n",
    "\n",
    "SEED = 1 "
   ]
  },
  {
   "cell_type": "markdown",
   "metadata": {},
   "source": [
    "## Exogenous Parameters\n"
   ]
  },
  {
   "cell_type": "code",
   "execution_count": 2,
   "metadata": {},
   "outputs": [],
   "source": [
    "# Setting exogenous parameters\n",
    "def reset_exog_params():\n",
    "    global Bm, Bw, bm_vals, bw_vals, δ, um, uw, Fm, Fw, λm, λw\n",
    "    Bm = 10\n",
    "    Bw = 10\n",
    "    bm_vals = range(1,Bm+1) \n",
    "    bw_vals = range(1,Bw+1)\n",
    "    \n",
    "    δ = 0.97\n",
    "    um = lambda θ : θ \n",
    "    uw = lambda θ : θ\n",
    "    Fm = beta(3,3)\n",
    "    Fw = beta(3,3)\n",
    "    λm = 50\n",
    "    λw = 50\n",
    "\n",
    "def exog_params():\n",
    "    return (Bm, Bw, bm_vals, bw_vals, δ, um, uw, Fm, Fw, λm, λw)"
   ]
  },
  {
   "cell_type": "markdown",
   "metadata": {},
   "source": [
    "## Steady State with Cutoff Strategies"
   ]
  },
  {
   "cell_type": "code",
   "execution_count": 3,
   "metadata": {},
   "outputs": [],
   "source": [
    "def steady_state_men(μ): \n",
    "    # Computing z's\n",
    "    zm = []\n",
    "    for b in bm_vals:\n",
    "        if b==Bm:\n",
    "            zm.append(1-δ*Fw.cdf(μ[Bm-1]))\n",
    "        else:    \n",
    "            z=1\n",
    "            for i in range(1, Bm-b+1): \n",
    "                z *= ((δ*(1-Fw.cdf(μ[Bm-i])))/(1-δ*Fw.cdf(μ[Bm-i-1])))   \n",
    "            zm.append(z)  \n",
    "    # Computing steady-state mass \n",
    "    Nm = (λm) * ((zm[Bm-1] - δ * zm[0] * (1 - Fw.cdf(μ[0]))) / ((1-δ) * zm[Bm-1]))\n",
    "\n",
    "    # Computing steady state distribution over budgets\n",
    "    Pbm = [((λm) / (Nm * zm[Bm-1])) * zm[b] for b in range(Bm-1)]\n",
    "    Pbm.append(((λm) / (Nm * zm[Bm-1])))  \n",
    "\n",
    "    return Nm, Pbm "
   ]
  },
  {
   "cell_type": "code",
   "execution_count": 4,
   "metadata": {},
   "outputs": [],
   "source": [
    "def steady_state_women(ω):\n",
    "    # Computing z's\n",
    "    zw = []\n",
    "    for b in bw_vals:\n",
    "        if b==Bw:\n",
    "            zw.append(1-δ*Fm.cdf(ω[Bw-1]))\n",
    "        else:    \n",
    "            z=1\n",
    "            for i in range(1, Bw-b+1): \n",
    "                z *= ((δ * (1-Fm.cdf(ω[Bw-i])))/(1-δ*Fm.cdf(ω[Bw-i-1])))\n",
    "            zw.append(z)    \n",
    "    \n",
    "    # Computing steady-state mass\n",
    "    Nw = (λw) * ((zw[Bw-1] - δ * zw[0] * (1 - Fm.cdf(ω[0]))) / ((1-δ) * zw[Bw-1]))\n",
    "\n",
    "    # Computing steady state distribution over budgets  \n",
    "    Pbw = [((λw) / (Nw * zw[Bw-1])) * zw[b] for b in range(Bw-1)] \n",
    "    Pbw.append(((λw) / (Nw * zw[Bw-1])))  \n",
    "\n",
    "    return Nw, Pbw"
   ]
  },
  {
   "cell_type": "code",
   "execution_count": 5,
   "metadata": {},
   "outputs": [],
   "source": [
    "def steady_state(μ, ω, verbose=False):\n",
    "    # Computing masses and distributions\n",
    "    Nm, Pbm = steady_state_men(μ)\n",
    "    Nw, Pbw = steady_state_women(ω)\n",
    "    \n",
    "    # Computing tightness and alpha\n",
    "    if Nw>Nm:\n",
    "        τm = 1\n",
    "    else:\n",
    "        τm = Nw/Nm \n",
    "        \n",
    "    τw = τm *(Nm/Nw) \n",
    "    αm = (τm*δ)/(1-δ*(1-τm))\n",
    "    αw = (τw*δ)/(1-δ*(1-τw))\n",
    "    return Nm, Nw, Pbm, Pbw, τm, τw, αm, αw"
   ]
  },
  {
   "cell_type": "markdown",
   "metadata": {},
   "source": [
    "## Two-Sided Search Equilibrium Conditions \n"
   ]
  },
  {
   "cell_type": "code",
   "execution_count": 6,
   "metadata": {},
   "outputs": [],
   "source": [
    "# Optimality conditions\n",
    "def SSE(x): \n",
    "    # Compute steady state \n",
    "    Nm, Nw, Pbm, Pbw, τm, τw, αm, αw = steady_state(x[:Bm], x[Bm:])\n",
    "    \n",
    "    Um = um\n",
    "    Uw = uw\n",
    "    # Computing ex-ante expected utilities \n",
    "    \n",
    "    # Initialysing system of equilibrium equations\n",
    "    E = np.empty(2*Bm + 2*Bw + 2)\n",
    "    \n",
    "    # Initial conditions \n",
    "    E[0] = (Um(x[0]) \n",
    "            - αm * Um(x[0]) * Fw.cdf(x[0]) \n",
    "            - αm * intg.quad(lambda t: Um(t) * Fw.pdf(t), x[0], 1)[0]) \n",
    "    \n",
    "    E[Bm] = (Uw(x[Bm]) \n",
    "            - αw * Uw(x[Bm]) * Fm.cdf(x[Bm]) \n",
    "            - αw * intg.quad(lambda t: Uw(t) * Fm.pdf(t), x[Bm], 1)[0]) \n",
    "    \n",
    "    # Intertemporal optimality conditions for men\n",
    "    for b in range(1,Bm):\n",
    "        E[b] = (Um(x[b]) \n",
    "                - αm * Um(x[b]) * Fw.cdf(x[b]) \n",
    "                - αm * Um(x[b-1])*(1-Fw.cdf(x[b-1])) \n",
    "                - αm * intg.quad(lambda t : Um(t) * Fw.pdf(t), x[b], x[b-1])[0])\n",
    "    \n",
    "    # Intertemporal optimality conditions for women\n",
    "    for b in range(1,Bw):\n",
    "        E[Bm+b] = (Uw(x[Bm+b]) \n",
    "                - αw * Uw(x[Bm+b]) * Fm.cdf(x[Bm+b]) \n",
    "                - αw * Uw(x[Bm+b-1])*(1-Fm.cdf(x[Bm+b-1])) \n",
    "                - αw * intg.quad(lambda t : Uw(t) * Fm.pdf(t), x[Bm+b], x[Bm+b-1])[0])\n",
    "        \n",
    "    # PMF unity sum conditions\n",
    "    E[Bm+Bw] = sum(Pbm)-1\n",
    "    E[Bm+Bw+1] = sum(Pbw)-1\n",
    "    \n",
    "    # PMF non-negativity conditions\n",
    "    for b in range(Bm):\n",
    "        E[Bm+Bw+2+b] = Pbm[b]-abs(Pbm[b])\n",
    "        \n",
    "    for b in range(Bw): \n",
    "        E[Bm+Bw+2+Bm+b] = Pbw[b]-abs(Pbw[b])    \n",
    "        \n",
    "    return E "
   ]
  },
  {
   "cell_type": "markdown",
   "metadata": {},
   "source": [
    "## Solving For Steady State Equilibria "
   ]
  },
  {
   "cell_type": "code",
   "execution_count": 7,
   "metadata": {},
   "outputs": [
    {
     "name": "stdout",
     "output_type": "stream",
     "text": [
      "μ0:  [0.92540542 0.81430504 0.67822919 0.64138401 0.93604564 0.35960761\n",
      " 0.77870547 0.79789954 0.9258518  0.50416931]\n",
      "ω0:  [0.99475944 0.83559118 0.39852463 0.02581193 0.42632547 0.23282404\n",
      " 0.24543032 0.68953345 0.94650784 0.98334361]\n",
      "\n",
      "`gtol` termination condition is satisfied.\n",
      "Function evaluations 9, initial cost 2.0156e-01, final cost 6.4999e-15, first-order optimality 7.31e-09.\n",
      "\n",
      "μ* [0.66366993 0.59515954 0.54890115 0.51301637 0.48332374 0.45781327\n",
      " 0.43534896 0.41522015 0.3969499  0.38020117]\n",
      "ω* [0.66367011 0.59515969 0.54890127 0.51301646 0.48332381 0.45781332\n",
      " 0.435349   0.41522019 0.39694994 0.38020121]\n",
      "Loss: 0.0\n"
     ]
    }
   ],
   "source": [
    "reset_exog_params()\n",
    "m_test = np.random.rand(Bm)#*0.5\n",
    "w_test = np.random.rand(Bw)#*0.5  \n",
    "\n",
    "print('μ0: ', m_test)\n",
    "print('ω0: ', w_test)\n",
    "print('')\n",
    "\n",
    "x_start = np.concatenate((m_test, w_test), axis=None)\n",
    "solution = least_squares(SSE, x_start, bounds = (0,1), verbose=1) \n",
    "\n",
    "μ_star = solution.x[:Bm]\n",
    "ω_star = solution.x[Bm:]\n",
    "print('')\n",
    "print('μ*', μ_star) \n",
    "print('ω*', ω_star) \n",
    "print('Loss:', round(solution.cost,6))"
   ]
  },
  {
   "cell_type": "code",
   "execution_count": 8,
   "metadata": {},
   "outputs": [
    {
     "name": "stdout",
     "output_type": "stream",
     "text": [
      "Masses:  798 798\n",
      "PMF check: 1.0 1.0\n",
      "Tightness:  1 1.0\n",
      "Alphas:  0.97 0.97\n",
      "Average Pr(right-swipe):  0.49 0.49\n"
     ]
    }
   ],
   "source": [
    "# Computing steady state\n",
    "Nm, Nw, Pbm, Pbw, τm, τw, αm, αw = steady_state(μ_star, ω_star, True)\n",
    "print('Masses: ', round(Nm), round(Nw))\n",
    "print('PMF check:', round(sum(Pbm),3), round(sum(Pbw),3))\n",
    "print('Tightness: ', round(τm,2), round(τw,2))\n",
    "print('Alphas: ', round(αm,2), round(αw,2)) \n",
    "\n",
    "ρm = sum([(1 - Fm.cdf(ω_star[b]))*Pbw[b] for b in range(Bw)])\n",
    "ρw = sum([(1 - Fw.cdf(μ_star[b]))*Pbm[b] for b in range(Bm)])\n",
    "print('Average Pr(right-swipe): ', round(ρm, 2), round(ρw, 2))"
   ]
  },
  {
   "cell_type": "markdown",
   "metadata": {},
   "source": [
    "## Single Batch Agent-Based Simulation"
   ]
  },
  {
   "cell_type": "markdown",
   "metadata": {},
   "source": [
    "## Gale-Shapley Matches "
   ]
  },
  {
   "cell_type": "markdown",
   "metadata": {},
   "source": [
    "## Directed Search Random Walking Ranks"
   ]
  },
  {
   "cell_type": "markdown",
   "metadata": {},
   "source": [
    "## Single Batch Agent-Based Simulation"
   ]
  }
 ],
 "metadata": {
  "interpreter": {
   "hash": "1eadd6e935a4e19efe0bf22a49bc8e59458c62498b168c3ecd53769877cee6a7"
  },
  "kernelspec": {
   "display_name": "Python 3.9.7 64-bit ('project-tinder-env': conda)",
   "name": "python3"
  },
  "language_info": {
   "codemirror_mode": {
    "name": "ipython",
    "version": 3
   },
   "file_extension": ".py",
   "mimetype": "text/x-python",
   "name": "python",
   "nbconvert_exporter": "python",
   "pygments_lexer": "ipython3",
   "version": "3.9.7"
  }
 },
 "nbformat": 4,
 "nbformat_minor": 4
}
